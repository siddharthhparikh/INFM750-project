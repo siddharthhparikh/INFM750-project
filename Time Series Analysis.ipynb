{
 "cells": [
  {
   "cell_type": "markdown",
   "metadata": {},
   "source": [
    "Long Short-Term Memory network is a type of Recurrent Neural Network"
   ]
  },
  {
   "cell_type": "code",
   "execution_count": 5,
   "metadata": {
    "collapsed": false
   },
   "outputs": [
    {
     "name": "stderr",
     "output_type": "stream",
     "text": [
      "Using Theano backend.\n"
     ]
    }
   ],
   "source": [
    "import numpy\n",
    "import matplotlib.pyplot as plt\n",
    "import pandas\n",
    "import math\n",
    "from keras.models import Sequential\n",
    "from keras.layers import Dense\n",
    "from keras.layers import LSTM\n",
    "from sklearn.preprocessing import MinMaxScaler\n",
    "from sklearn.metrics import mean_squared_error"
   ]
  },
  {
   "cell_type": "code",
   "execution_count": 6,
   "metadata": {
    "collapsed": true
   },
   "outputs": [],
   "source": [
    "# fix random seed for reproducibility\n",
    "numpy.random.seed(7)\n"
   ]
  },
  {
   "cell_type": "code",
   "execution_count": 7,
   "metadata": {
    "collapsed": false
   },
   "outputs": [
    {
     "ename": "IOError",
     "evalue": "[Errno 2] No such file or directory: 'tweetvolumes.csv'",
     "output_type": "error",
     "traceback": [
      "\u001b[0;31m---------------------------------------------------------------------------\u001b[0m",
      "\u001b[0;31mIOError\u001b[0m                                   Traceback (most recent call last)",
      "\u001b[0;32m<ipython-input-7-72df2a421bd0>\u001b[0m in \u001b[0;36m<module>\u001b[0;34m()\u001b[0m\n\u001b[1;32m      1\u001b[0m \u001b[0;31m# load the dataset\u001b[0m\u001b[0;34m\u001b[0m\u001b[0;34m\u001b[0m\u001b[0m\n\u001b[0;32m----> 2\u001b[0;31m \u001b[0mdataframe\u001b[0m \u001b[0;34m=\u001b[0m \u001b[0mpandas\u001b[0m\u001b[0;34m.\u001b[0m\u001b[0mread_csv\u001b[0m\u001b[0;34m(\u001b[0m\u001b[0;34m'tweetvolumes.csv'\u001b[0m\u001b[0;34m,\u001b[0m \u001b[0musecols\u001b[0m\u001b[0;34m=\u001b[0m\u001b[0;34m[\u001b[0m\u001b[0;36m1\u001b[0m\u001b[0;34m]\u001b[0m\u001b[0;34m,\u001b[0m \u001b[0mengine\u001b[0m\u001b[0;34m=\u001b[0m\u001b[0;34m'python'\u001b[0m\u001b[0;34m)\u001b[0m\u001b[0;34m\u001b[0m\u001b[0m\n\u001b[0m\u001b[1;32m      3\u001b[0m \u001b[0;32mprint\u001b[0m \u001b[0mdataframe\u001b[0m\u001b[0;34m\u001b[0m\u001b[0m\n\u001b[1;32m      4\u001b[0m \u001b[0mdataset\u001b[0m \u001b[0;34m=\u001b[0m \u001b[0mdataframe\u001b[0m\u001b[0;34m.\u001b[0m\u001b[0mvalues\u001b[0m\u001b[0;34m\u001b[0m\u001b[0m\n\u001b[1;32m      5\u001b[0m \u001b[0mdataset\u001b[0m \u001b[0;34m=\u001b[0m \u001b[0mdataset\u001b[0m\u001b[0;34m.\u001b[0m\u001b[0mastype\u001b[0m\u001b[0;34m(\u001b[0m\u001b[0;34m'float32'\u001b[0m\u001b[0;34m)\u001b[0m\u001b[0;34m\u001b[0m\u001b[0m\n",
      "\u001b[0;32m/Users/siddharthparikh/anaconda/lib/python2.7/site-packages/pandas/io/parsers.pyc\u001b[0m in \u001b[0;36mparser_f\u001b[0;34m(filepath_or_buffer, sep, dialect, compression, doublequote, escapechar, quotechar, quoting, skipinitialspace, lineterminator, header, index_col, names, prefix, skiprows, skipfooter, skip_footer, na_values, na_fvalues, true_values, false_values, delimiter, converters, dtype, usecols, engine, delim_whitespace, as_recarray, na_filter, compact_ints, use_unsigned, low_memory, buffer_lines, warn_bad_lines, error_bad_lines, keep_default_na, thousands, comment, decimal, parse_dates, keep_date_col, dayfirst, date_parser, memory_map, float_precision, nrows, iterator, chunksize, verbose, encoding, squeeze, mangle_dupe_cols, tupleize_cols, infer_datetime_format, skip_blank_lines)\u001b[0m\n\u001b[1;32m    472\u001b[0m                     skip_blank_lines=skip_blank_lines)\n\u001b[1;32m    473\u001b[0m \u001b[0;34m\u001b[0m\u001b[0m\n\u001b[0;32m--> 474\u001b[0;31m         \u001b[0;32mreturn\u001b[0m \u001b[0m_read\u001b[0m\u001b[0;34m(\u001b[0m\u001b[0mfilepath_or_buffer\u001b[0m\u001b[0;34m,\u001b[0m \u001b[0mkwds\u001b[0m\u001b[0;34m)\u001b[0m\u001b[0;34m\u001b[0m\u001b[0m\n\u001b[0m\u001b[1;32m    475\u001b[0m \u001b[0;34m\u001b[0m\u001b[0m\n\u001b[1;32m    476\u001b[0m     \u001b[0mparser_f\u001b[0m\u001b[0;34m.\u001b[0m\u001b[0m__name__\u001b[0m \u001b[0;34m=\u001b[0m \u001b[0mname\u001b[0m\u001b[0;34m\u001b[0m\u001b[0m\n",
      "\u001b[0;32m/Users/siddharthparikh/anaconda/lib/python2.7/site-packages/pandas/io/parsers.pyc\u001b[0m in \u001b[0;36m_read\u001b[0;34m(filepath_or_buffer, kwds)\u001b[0m\n\u001b[1;32m    248\u001b[0m \u001b[0;34m\u001b[0m\u001b[0m\n\u001b[1;32m    249\u001b[0m     \u001b[0;31m# Create the parser.\u001b[0m\u001b[0;34m\u001b[0m\u001b[0;34m\u001b[0m\u001b[0m\n\u001b[0;32m--> 250\u001b[0;31m     \u001b[0mparser\u001b[0m \u001b[0;34m=\u001b[0m \u001b[0mTextFileReader\u001b[0m\u001b[0;34m(\u001b[0m\u001b[0mfilepath_or_buffer\u001b[0m\u001b[0;34m,\u001b[0m \u001b[0;34m**\u001b[0m\u001b[0mkwds\u001b[0m\u001b[0;34m)\u001b[0m\u001b[0;34m\u001b[0m\u001b[0m\n\u001b[0m\u001b[1;32m    251\u001b[0m \u001b[0;34m\u001b[0m\u001b[0m\n\u001b[1;32m    252\u001b[0m     \u001b[0;32mif\u001b[0m \u001b[0;34m(\u001b[0m\u001b[0mnrows\u001b[0m \u001b[0;32mis\u001b[0m \u001b[0;32mnot\u001b[0m \u001b[0mNone\u001b[0m\u001b[0;34m)\u001b[0m \u001b[0;32mand\u001b[0m \u001b[0;34m(\u001b[0m\u001b[0mchunksize\u001b[0m \u001b[0;32mis\u001b[0m \u001b[0;32mnot\u001b[0m \u001b[0mNone\u001b[0m\u001b[0;34m)\u001b[0m\u001b[0;34m:\u001b[0m\u001b[0;34m\u001b[0m\u001b[0m\n",
      "\u001b[0;32m/Users/siddharthparikh/anaconda/lib/python2.7/site-packages/pandas/io/parsers.pyc\u001b[0m in \u001b[0;36m__init__\u001b[0;34m(self, f, engine, **kwds)\u001b[0m\n\u001b[1;32m    564\u001b[0m             \u001b[0mself\u001b[0m\u001b[0;34m.\u001b[0m\u001b[0moptions\u001b[0m\u001b[0;34m[\u001b[0m\u001b[0;34m'has_index_names'\u001b[0m\u001b[0;34m]\u001b[0m \u001b[0;34m=\u001b[0m \u001b[0mkwds\u001b[0m\u001b[0;34m[\u001b[0m\u001b[0;34m'has_index_names'\u001b[0m\u001b[0;34m]\u001b[0m\u001b[0;34m\u001b[0m\u001b[0m\n\u001b[1;32m    565\u001b[0m \u001b[0;34m\u001b[0m\u001b[0m\n\u001b[0;32m--> 566\u001b[0;31m         \u001b[0mself\u001b[0m\u001b[0;34m.\u001b[0m\u001b[0m_make_engine\u001b[0m\u001b[0;34m(\u001b[0m\u001b[0mself\u001b[0m\u001b[0;34m.\u001b[0m\u001b[0mengine\u001b[0m\u001b[0;34m)\u001b[0m\u001b[0;34m\u001b[0m\u001b[0m\n\u001b[0m\u001b[1;32m    567\u001b[0m \u001b[0;34m\u001b[0m\u001b[0m\n\u001b[1;32m    568\u001b[0m     \u001b[0;32mdef\u001b[0m \u001b[0m_get_options_with_defaults\u001b[0m\u001b[0;34m(\u001b[0m\u001b[0mself\u001b[0m\u001b[0;34m,\u001b[0m \u001b[0mengine\u001b[0m\u001b[0;34m)\u001b[0m\u001b[0;34m:\u001b[0m\u001b[0;34m\u001b[0m\u001b[0m\n",
      "\u001b[0;32m/Users/siddharthparikh/anaconda/lib/python2.7/site-packages/pandas/io/parsers.pyc\u001b[0m in \u001b[0;36m_make_engine\u001b[0;34m(self, engine)\u001b[0m\n\u001b[1;32m    709\u001b[0m             \u001b[0;32melif\u001b[0m \u001b[0mengine\u001b[0m \u001b[0;34m==\u001b[0m \u001b[0;34m'python-fwf'\u001b[0m\u001b[0;34m:\u001b[0m\u001b[0;34m\u001b[0m\u001b[0m\n\u001b[1;32m    710\u001b[0m                 \u001b[0mklass\u001b[0m \u001b[0;34m=\u001b[0m \u001b[0mFixedWidthFieldParser\u001b[0m\u001b[0;34m\u001b[0m\u001b[0m\n\u001b[0;32m--> 711\u001b[0;31m             \u001b[0mself\u001b[0m\u001b[0;34m.\u001b[0m\u001b[0m_engine\u001b[0m \u001b[0;34m=\u001b[0m \u001b[0mklass\u001b[0m\u001b[0;34m(\u001b[0m\u001b[0mself\u001b[0m\u001b[0;34m.\u001b[0m\u001b[0mf\u001b[0m\u001b[0;34m,\u001b[0m \u001b[0;34m**\u001b[0m\u001b[0mself\u001b[0m\u001b[0;34m.\u001b[0m\u001b[0moptions\u001b[0m\u001b[0;34m)\u001b[0m\u001b[0;34m\u001b[0m\u001b[0m\n\u001b[0m\u001b[1;32m    712\u001b[0m \u001b[0;34m\u001b[0m\u001b[0m\n\u001b[1;32m    713\u001b[0m     \u001b[0;32mdef\u001b[0m \u001b[0m_failover_to_python\u001b[0m\u001b[0;34m(\u001b[0m\u001b[0mself\u001b[0m\u001b[0;34m)\u001b[0m\u001b[0;34m:\u001b[0m\u001b[0;34m\u001b[0m\u001b[0m\n",
      "\u001b[0;32m/Users/siddharthparikh/anaconda/lib/python2.7/site-packages/pandas/io/parsers.pyc\u001b[0m in \u001b[0;36m__init__\u001b[0;34m(self, f, **kwds)\u001b[0m\n\u001b[1;32m   1409\u001b[0m         \u001b[0;32mif\u001b[0m \u001b[0misinstance\u001b[0m\u001b[0;34m(\u001b[0m\u001b[0mf\u001b[0m\u001b[0;34m,\u001b[0m \u001b[0mcompat\u001b[0m\u001b[0;34m.\u001b[0m\u001b[0mstring_types\u001b[0m\u001b[0;34m)\u001b[0m\u001b[0;34m:\u001b[0m\u001b[0;34m\u001b[0m\u001b[0m\n\u001b[1;32m   1410\u001b[0m             f = com._get_handle(f, 'r', encoding=self.encoding,\n\u001b[0;32m-> 1411\u001b[0;31m                                 compression=self.compression)\n\u001b[0m\u001b[1;32m   1412\u001b[0m         \u001b[0;32melif\u001b[0m \u001b[0mself\u001b[0m\u001b[0;34m.\u001b[0m\u001b[0mcompression\u001b[0m\u001b[0;34m:\u001b[0m\u001b[0;34m\u001b[0m\u001b[0m\n\u001b[1;32m   1413\u001b[0m             \u001b[0mf\u001b[0m \u001b[0;34m=\u001b[0m \u001b[0m_wrap_compressed\u001b[0m\u001b[0;34m(\u001b[0m\u001b[0mf\u001b[0m\u001b[0;34m,\u001b[0m \u001b[0mself\u001b[0m\u001b[0;34m.\u001b[0m\u001b[0mcompression\u001b[0m\u001b[0;34m,\u001b[0m \u001b[0mself\u001b[0m\u001b[0;34m.\u001b[0m\u001b[0mencoding\u001b[0m\u001b[0;34m)\u001b[0m\u001b[0;34m\u001b[0m\u001b[0m\n",
      "\u001b[0;32m/Users/siddharthparikh/anaconda/lib/python2.7/site-packages/pandas/core/common.pyc\u001b[0m in \u001b[0;36m_get_handle\u001b[0;34m(path, mode, encoding, compression)\u001b[0m\n\u001b[1;32m   2829\u001b[0m                 \u001b[0mf\u001b[0m \u001b[0;34m=\u001b[0m \u001b[0mopen\u001b[0m\u001b[0;34m(\u001b[0m\u001b[0mpath\u001b[0m\u001b[0;34m,\u001b[0m \u001b[0mmode\u001b[0m\u001b[0;34m,\u001b[0m \u001b[0merrors\u001b[0m\u001b[0;34m=\u001b[0m\u001b[0;34m'replace'\u001b[0m\u001b[0;34m)\u001b[0m\u001b[0;34m\u001b[0m\u001b[0m\n\u001b[1;32m   2830\u001b[0m         \u001b[0;32melse\u001b[0m\u001b[0;34m:\u001b[0m\u001b[0;34m\u001b[0m\u001b[0m\n\u001b[0;32m-> 2831\u001b[0;31m             \u001b[0mf\u001b[0m \u001b[0;34m=\u001b[0m \u001b[0mopen\u001b[0m\u001b[0;34m(\u001b[0m\u001b[0mpath\u001b[0m\u001b[0;34m,\u001b[0m \u001b[0mmode\u001b[0m\u001b[0;34m)\u001b[0m\u001b[0;34m\u001b[0m\u001b[0m\n\u001b[0m\u001b[1;32m   2832\u001b[0m \u001b[0;34m\u001b[0m\u001b[0m\n\u001b[1;32m   2833\u001b[0m     \u001b[0;32mreturn\u001b[0m \u001b[0mf\u001b[0m\u001b[0;34m\u001b[0m\u001b[0m\n",
      "\u001b[0;31mIOError\u001b[0m: [Errno 2] No such file or directory: 'tweetvolumes.csv'"
     ]
    }
   ],
   "source": [
    "# load the dataset\n",
    "dataframe = pandas.read_csv('tweetvolumes.csv', usecols=[1], engine='python')\n",
    "dataset = dataframe.values\n",
    "dataset = dataset.astype('float32')"
   ]
  },
  {
   "cell_type": "code",
   "execution_count": 10,
   "metadata": {
    "collapsed": false
   },
   "outputs": [
    {
     "data": {
      "text/html": [
       "<div>\n",
       "<table border=\"1\" class=\"dataframe\">\n",
       "  <thead>\n",
       "    <tr style=\"text-align: right;\">\n",
       "      <th></th>\n",
       "      <th>Number of Tweets</th>\n",
       "    </tr>\n",
       "  </thead>\n",
       "  <tbody>\n",
       "    <tr>\n",
       "      <th>count</th>\n",
       "      <td>171.000000</td>\n",
       "    </tr>\n",
       "    <tr>\n",
       "      <th>mean</th>\n",
       "      <td>1204.011696</td>\n",
       "    </tr>\n",
       "    <tr>\n",
       "      <th>std</th>\n",
       "      <td>625.290060</td>\n",
       "    </tr>\n",
       "    <tr>\n",
       "      <th>min</th>\n",
       "      <td>275.000000</td>\n",
       "    </tr>\n",
       "    <tr>\n",
       "      <th>25%</th>\n",
       "      <td>721.500000</td>\n",
       "    </tr>\n",
       "    <tr>\n",
       "      <th>50%</th>\n",
       "      <td>968.000000</td>\n",
       "    </tr>\n",
       "    <tr>\n",
       "      <th>75%</th>\n",
       "      <td>1641.500000</td>\n",
       "    </tr>\n",
       "    <tr>\n",
       "      <th>max</th>\n",
       "      <td>4278.000000</td>\n",
       "    </tr>\n",
       "  </tbody>\n",
       "</table>\n",
       "</div>"
      ],
      "text/plain": [
       "       Number of Tweets\n",
       "count        171.000000\n",
       "mean        1204.011696\n",
       "std          625.290060\n",
       "min          275.000000\n",
       "25%          721.500000\n",
       "50%          968.000000\n",
       "75%         1641.500000\n",
       "max         4278.000000"
      ]
     },
     "execution_count": 10,
     "metadata": {},
     "output_type": "execute_result"
    }
   ],
   "source": [
    "dataframe.describe()"
   ]
  },
  {
   "cell_type": "code",
   "execution_count": 11,
   "metadata": {
    "collapsed": true
   },
   "outputs": [],
   "source": [
    "# normalize the dataset\n",
    "scaler = MinMaxScaler(feature_range=(0, 1))\n",
    "dataset = scaler.fit_transform(dataset)"
   ]
  },
  {
   "cell_type": "code",
   "execution_count": 12,
   "metadata": {
    "collapsed": false
   },
   "outputs": [
    {
     "name": "stdout",
     "output_type": "stream",
     "text": [
      "(61, 120)\n"
     ]
    }
   ],
   "source": [
    "# split into train and test sets - train set ends on May 12\n",
    "train_size = 61\n",
    "test_size = len(dataset) - train_size\n",
    "train, test = dataset[0:train_size,:], dataset[train_size-10:len(dataset),:]\n",
    "print(len(train), len(test))"
   ]
  },
  {
   "cell_type": "code",
   "execution_count": 13,
   "metadata": {
    "collapsed": true
   },
   "outputs": [],
   "source": [
    "def create_dataset(dataset, look_back=1):\n",
    "    dataX, dataY = [], []\n",
    "    for i in range(len(dataset)-look_back-1):\n",
    "        a = dataset[i:(i+look_back), 0]\n",
    "        dataX.append(a)\n",
    "        dataY.append(dataset[i + look_back, 0])\n",
    "    return numpy.array(dataX), numpy.array(dataY)"
   ]
  },
  {
   "cell_type": "code",
   "execution_count": 14,
   "metadata": {
    "collapsed": true
   },
   "outputs": [],
   "source": [
    "# reshape into X=t and Y=t+1\n",
    "look_back = 7\n",
    "trainX, trainY = create_dataset(train, look_back)\n",
    "testX, testY = create_dataset(test, look_back)"
   ]
  },
  {
   "cell_type": "code",
   "execution_count": 15,
   "metadata": {
    "collapsed": false
   },
   "outputs": [],
   "source": [
    "# reshape input to be [samples, time steps, features]\n",
    "trainX = numpy.reshape(trainX, (trainX.shape[0], 1, trainX.shape[1]))\n",
    "testX = numpy.reshape(testX, (testX.shape[0], 1, testX.shape[1]))"
   ]
  },
  {
   "cell_type": "code",
   "execution_count": 16,
   "metadata": {
    "collapsed": false
   },
   "outputs": [
    {
     "name": "stdout",
     "output_type": "stream",
     "text": [
      "Epoch 1/100\n",
      "1s - loss: 0.1558\n",
      "Epoch 2/100\n",
      "1s - loss: 0.0597\n",
      "Epoch 3/100\n",
      "1s - loss: 0.0220\n",
      "Epoch 4/100\n",
      "1s - loss: 0.0099\n",
      "Epoch 5/100\n",
      "1s - loss: 0.0070\n",
      "Epoch 6/100\n",
      "1s - loss: 0.0065\n",
      "Epoch 7/100\n",
      "1s - loss: 0.0064\n",
      "Epoch 8/100\n",
      "1s - loss: 0.0065\n",
      "Epoch 9/100\n",
      "1s - loss: 0.0064\n",
      "Epoch 10/100\n",
      "1s - loss: 0.0064\n",
      "Epoch 11/100\n",
      "1s - loss: 0.0065\n",
      "Epoch 12/100\n",
      "1s - loss: 0.0064\n",
      "Epoch 13/100\n",
      "1s - loss: 0.0065\n",
      "Epoch 14/100\n",
      "1s - loss: 0.0065\n",
      "Epoch 15/100\n",
      "1s - loss: 0.0065\n",
      "Epoch 16/100\n",
      "1s - loss: 0.0063\n",
      "Epoch 17/100\n",
      "1s - loss: 0.0063\n",
      "Epoch 18/100\n",
      "1s - loss: 0.0064\n",
      "Epoch 19/100\n",
      "1s - loss: 0.0063\n",
      "Epoch 20/100\n",
      "1s - loss: 0.0063\n",
      "Epoch 21/100\n",
      "1s - loss: 0.0063\n",
      "Epoch 22/100\n",
      "1s - loss: 0.0063\n",
      "Epoch 23/100\n",
      "1s - loss: 0.0062\n",
      "Epoch 24/100\n",
      "1s - loss: 0.0063\n",
      "Epoch 25/100\n",
      "1s - loss: 0.0062\n",
      "Epoch 26/100\n",
      "1s - loss: 0.0063\n",
      "Epoch 27/100\n",
      "1s - loss: 0.0062\n",
      "Epoch 28/100\n",
      "1s - loss: 0.0062\n",
      "Epoch 29/100\n",
      "1s - loss: 0.0062\n",
      "Epoch 30/100\n",
      "1s - loss: 0.0063\n",
      "Epoch 31/100\n",
      "1s - loss: 0.0062\n",
      "Epoch 32/100\n",
      "1s - loss: 0.0061\n",
      "Epoch 33/100\n",
      "1s - loss: 0.0062\n",
      "Epoch 34/100\n",
      "1s - loss: 0.0061\n",
      "Epoch 35/100\n",
      "1s - loss: 0.0061\n",
      "Epoch 36/100\n",
      "1s - loss: 0.0062\n",
      "Epoch 37/100\n",
      "1s - loss: 0.0062\n",
      "Epoch 38/100\n",
      "1s - loss: 0.0061\n",
      "Epoch 39/100\n",
      "1s - loss: 0.0062\n",
      "Epoch 40/100\n",
      "1s - loss: 0.0060\n",
      "Epoch 41/100\n",
      "1s - loss: 0.0060\n",
      "Epoch 42/100\n",
      "1s - loss: 0.0060\n",
      "Epoch 43/100\n",
      "1s - loss: 0.0060\n",
      "Epoch 44/100\n",
      "1s - loss: 0.0060\n",
      "Epoch 45/100\n",
      "1s - loss: 0.0059\n",
      "Epoch 46/100\n",
      "1s - loss: 0.0059\n",
      "Epoch 47/100\n",
      "1s - loss: 0.0060\n",
      "Epoch 48/100\n",
      "1s - loss: 0.0060\n",
      "Epoch 49/100\n",
      "1s - loss: 0.0059\n",
      "Epoch 50/100\n",
      "1s - loss: 0.0060\n",
      "Epoch 51/100\n",
      "1s - loss: 0.0061\n",
      "Epoch 52/100\n",
      "1s - loss: 0.0060\n",
      "Epoch 53/100\n",
      "1s - loss: 0.0060\n",
      "Epoch 54/100\n",
      "1s - loss: 0.0058\n",
      "Epoch 55/100\n",
      "1s - loss: 0.0059\n",
      "Epoch 56/100\n",
      "1s - loss: 0.0058\n",
      "Epoch 57/100\n",
      "1s - loss: 0.0059\n",
      "Epoch 58/100\n",
      "1s - loss: 0.0059\n",
      "Epoch 59/100\n",
      "1s - loss: 0.0060\n",
      "Epoch 60/100\n",
      "1s - loss: 0.0058\n",
      "Epoch 61/100\n",
      "1s - loss: 0.0058\n",
      "Epoch 62/100\n",
      "1s - loss: 0.0058\n",
      "Epoch 63/100\n",
      "1s - loss: 0.0058\n",
      "Epoch 64/100\n",
      "1s - loss: 0.0059\n",
      "Epoch 65/100\n",
      "1s - loss: 0.0059\n",
      "Epoch 66/100\n",
      "1s - loss: 0.0061\n",
      "Epoch 67/100\n",
      "1s - loss: 0.0058\n",
      "Epoch 68/100\n",
      "1s - loss: 0.0058\n",
      "Epoch 69/100\n",
      "1s - loss: 0.0059\n",
      "Epoch 70/100\n",
      "1s - loss: 0.0059\n",
      "Epoch 71/100\n",
      "1s - loss: 0.0059\n",
      "Epoch 72/100\n",
      "1s - loss: 0.0058\n",
      "Epoch 73/100\n",
      "1s - loss: 0.0059\n",
      "Epoch 74/100\n",
      "1s - loss: 0.0058\n",
      "Epoch 75/100\n",
      "1s - loss: 0.0057\n",
      "Epoch 76/100\n",
      "1s - loss: 0.0057\n",
      "Epoch 77/100\n",
      "1s - loss: 0.0057\n",
      "Epoch 78/100\n",
      "1s - loss: 0.0057\n",
      "Epoch 79/100\n",
      "1s - loss: 0.0057\n",
      "Epoch 80/100\n",
      "1s - loss: 0.0057\n",
      "Epoch 81/100\n",
      "1s - loss: 0.0057\n",
      "Epoch 82/100\n",
      "1s - loss: 0.0057\n",
      "Epoch 83/100\n",
      "1s - loss: 0.0056\n",
      "Epoch 84/100\n",
      "1s - loss: 0.0057\n",
      "Epoch 85/100\n",
      "1s - loss: 0.0057\n",
      "Epoch 86/100\n",
      "1s - loss: 0.0057\n",
      "Epoch 87/100\n",
      "1s - loss: 0.0057\n",
      "Epoch 88/100\n",
      "1s - loss: 0.0057\n",
      "Epoch 89/100\n",
      "1s - loss: 0.0057\n",
      "Epoch 90/100\n",
      "1s - loss: 0.0057\n",
      "Epoch 91/100\n",
      "1s - loss: 0.0057\n",
      "Epoch 92/100\n",
      "1s - loss: 0.0056\n",
      "Epoch 93/100\n",
      "1s - loss: 0.0056\n",
      "Epoch 94/100\n",
      "1s - loss: 0.0056\n",
      "Epoch 95/100\n",
      "1s - loss: 0.0056\n",
      "Epoch 96/100\n",
      "1s - loss: 0.0058\n",
      "Epoch 97/100\n",
      "1s - loss: 0.0057\n",
      "Epoch 98/100\n",
      "1s - loss: 0.0057\n",
      "Epoch 99/100\n",
      "1s - loss: 0.0058\n",
      "Epoch 100/100\n",
      "1s - loss: 0.0056\n"
     ]
    },
    {
     "data": {
      "text/plain": [
       "<keras.callbacks.History at 0x128718d0>"
      ]
     },
     "execution_count": 16,
     "metadata": {},
     "output_type": "execute_result"
    }
   ],
   "source": [
    "# create and fit the LSTM network\n",
    "model = Sequential()\n",
    "model.add(LSTM(4, input_dim=look_back))\n",
    "model.add(Dense(1))\n",
    "model.compile(loss='mean_squared_error', optimizer='adam')\n",
    "model.fit(trainX, trainY, nb_epoch=100, batch_size=1, verbose=2)"
   ]
  },
  {
   "cell_type": "code",
   "execution_count": 17,
   "metadata": {
    "collapsed": false,
    "scrolled": true
   },
   "outputs": [
    {
     "name": "stdout",
     "output_type": "stream",
     "text": [
      "Train Score: 296.41 RMSE\n",
      "Test Score: 509.65 RMSE\n"
     ]
    }
   ],
   "source": [
    "# make predictions\n",
    "trainPredict = model.predict(trainX)\n",
    "testPredict = model.predict(testX)\n",
    "# invert predictions\n",
    "trainPredict = scaler.inverse_transform(trainPredict)\n",
    "trainY = scaler.inverse_transform([trainY])\n",
    "testPredict = scaler.inverse_transform(testPredict)\n",
    "testY = scaler.inverse_transform([testY])\n",
    "# calculate root mean squared error\n",
    "trainScore = math.sqrt(mean_squared_error(trainY[0], trainPredict[:,0]))\n",
    "print('Train Score: %.2f RMSE' % (trainScore))\n",
    "testScore = math.sqrt(mean_squared_error(testY[0], testPredict[:,0]))\n",
    "print('Test Score: %.2f RMSE' % (testScore))"
   ]
  },
  {
   "cell_type": "code",
   "execution_count": 20,
   "metadata": {
    "collapsed": false
   },
   "outputs": [
    {
     "data": {
      "text/plain": [
       "array([[ 1981.43615723],\n",
       "       [ 1992.1418457 ],\n",
       "       [ 2100.40600586],\n",
       "       [ 2168.33374023],\n",
       "       [ 2473.52172852],\n",
       "       [ 2310.02392578],\n",
       "       [ 2464.37451172],\n",
       "       [ 1949.58654785],\n",
       "       [ 1885.75598145],\n",
       "       [ 1664.08544922],\n",
       "       [ 1750.41748047],\n",
       "       [ 1725.79052734],\n",
       "       [ 1537.6270752 ],\n",
       "       [ 1409.41516113],\n",
       "       [ 1293.01904297],\n",
       "       [ 1386.03112793],\n",
       "       [ 1284.80944824],\n",
       "       [ 1394.8918457 ],\n",
       "       [ 1273.22619629],\n",
       "       [ 1293.39733887],\n",
       "       [ 1211.71679688],\n",
       "       [ 1399.80554199],\n",
       "       [ 1239.98327637],\n",
       "       [ 1392.62475586],\n",
       "       [ 1276.40551758],\n",
       "       [ 1436.38439941],\n",
       "       [ 1433.35852051],\n",
       "       [ 1471.65856934],\n",
       "       [ 1395.31591797],\n",
       "       [ 1387.54345703],\n",
       "       [ 1367.40905762],\n",
       "       [ 1359.68640137],\n",
       "       [ 1272.97888184],\n",
       "       [ 1320.84277344],\n",
       "       [ 1278.33850098],\n",
       "       [ 1317.51367188],\n",
       "       [ 1216.58496094],\n",
       "       [ 1240.67443848],\n",
       "       [ 1225.46899414],\n",
       "       [ 1263.38220215],\n",
       "       [ 1240.70080566],\n",
       "       [ 1218.64953613],\n",
       "       [ 1218.2623291 ],\n",
       "       [ 1220.91589355],\n",
       "       [ 1277.83398438],\n",
       "       [ 1223.87854004],\n",
       "       [ 1258.18212891],\n",
       "       [ 1149.62646484],\n",
       "       [ 1261.05383301],\n",
       "       [ 1072.4864502 ],\n",
       "       [ 1182.48168945],\n",
       "       [ 1100.25366211],\n",
       "       [ 1140.48474121],\n",
       "       [ 1149.3972168 ],\n",
       "       [ 1124.09191895],\n",
       "       [ 1145.74353027],\n",
       "       [ 1091.45532227],\n",
       "       [ 1141.44592285],\n",
       "       [ 1059.48547363],\n",
       "       [ 1109.9720459 ],\n",
       "       [ 1130.94372559],\n",
       "       [ 1089.66149902],\n",
       "       [ 1168.2298584 ],\n",
       "       [ 1074.25256348],\n",
       "       [ 1164.63891602],\n",
       "       [ 1130.89611816],\n",
       "       [ 1160.32019043],\n",
       "       [ 1105.93896484],\n",
       "       [ 1079.69909668],\n",
       "       [ 1092.48803711],\n",
       "       [ 1078.41149902],\n",
       "       [ 1128.30493164],\n",
       "       [ 1067.12768555],\n",
       "       [ 1108.90112305],\n",
       "       [ 1129.04272461],\n",
       "       [ 1146.38122559],\n",
       "       [ 1158.16027832],\n",
       "       [ 1137.99108887],\n",
       "       [ 1143.46838379],\n",
       "       [ 1134.16503906],\n",
       "       [ 1125.65808105],\n",
       "       [ 1098.08581543],\n",
       "       [ 1029.3894043 ],\n",
       "       [ 1063.16723633],\n",
       "       [ 1028.58959961],\n",
       "       [ 1159.41296387],\n",
       "       [ 1081.92871094],\n",
       "       [ 1132.70556641],\n",
       "       [ 1123.35046387],\n",
       "       [ 1138.15319824],\n",
       "       [ 1221.36816406],\n",
       "       [ 1196.01708984],\n",
       "       [ 1211.36743164],\n",
       "       [ 1191.27746582],\n",
       "       [ 1216.61047363],\n",
       "       [ 1175.83874512],\n",
       "       [ 1182.96337891],\n",
       "       [ 1162.1965332 ],\n",
       "       [ 1148.82177734],\n",
       "       [ 1180.43505859],\n",
       "       [ 1115.88793945],\n",
       "       [ 1169.18884277],\n",
       "       [ 1104.86975098],\n",
       "       [ 1098.11755371],\n",
       "       [ 1091.28186035],\n",
       "       [ 1092.62695312],\n",
       "       [ 1153.06286621],\n",
       "       [ 1128.99645996],\n",
       "       [ 1117.98864746],\n",
       "       [ 1095.4666748 ],\n",
       "       [ 1075.85559082],\n",
       "       [ 1129.02392578]], dtype=float32)"
      ]
     },
     "execution_count": 20,
     "metadata": {},
     "output_type": "execute_result"
    }
   ],
   "source": [
    "testPredict"
   ]
  },
  {
   "cell_type": "code",
   "execution_count": 18,
   "metadata": {
    "collapsed": false
   },
   "outputs": [
    {
     "ename": "ValueError",
     "evalue": "could not broadcast input array from shape (112,1) into shape (109,1)",
     "output_type": "error",
     "traceback": [
      "\u001b[1;31m---------------------------------------------------------------------------\u001b[0m",
      "\u001b[1;31mValueError\u001b[0m                                Traceback (most recent call last)",
      "\u001b[1;32m<ipython-input-18-00dfc86a62fb>\u001b[0m in \u001b[0;36m<module>\u001b[1;34m()\u001b[0m\n\u001b[0;32m      6\u001b[0m \u001b[0mtestPredictPlot\u001b[0m \u001b[1;33m=\u001b[0m \u001b[0mnumpy\u001b[0m\u001b[1;33m.\u001b[0m\u001b[0mempty_like\u001b[0m\u001b[1;33m(\u001b[0m\u001b[0mdataset\u001b[0m\u001b[1;33m)\u001b[0m\u001b[1;33m\u001b[0m\u001b[0m\n\u001b[0;32m      7\u001b[0m \u001b[0mtestPredictPlot\u001b[0m\u001b[1;33m[\u001b[0m\u001b[1;33m:\u001b[0m\u001b[1;33m,\u001b[0m \u001b[1;33m:\u001b[0m\u001b[1;33m]\u001b[0m \u001b[1;33m=\u001b[0m \u001b[0mnumpy\u001b[0m\u001b[1;33m.\u001b[0m\u001b[0mnan\u001b[0m\u001b[1;33m\u001b[0m\u001b[0m\n\u001b[1;32m----> 8\u001b[1;33m \u001b[0mtestPredictPlot\u001b[0m\u001b[1;33m[\u001b[0m\u001b[0mlen\u001b[0m\u001b[1;33m(\u001b[0m\u001b[0mtrainPredict\u001b[0m\u001b[1;33m-\u001b[0m\u001b[1;36m10\u001b[0m\u001b[1;33m)\u001b[0m\u001b[1;33m+\u001b[0m\u001b[1;33m(\u001b[0m\u001b[0mlook_back\u001b[0m\u001b[1;33m)\u001b[0m\u001b[1;33m+\u001b[0m\u001b[1;36m1\u001b[0m\u001b[1;33m:\u001b[0m\u001b[0mlen\u001b[0m\u001b[1;33m(\u001b[0m\u001b[0mdataset\u001b[0m\u001b[1;33m)\u001b[0m\u001b[1;33m-\u001b[0m\u001b[1;36m1\u001b[0m\u001b[1;33m,\u001b[0m \u001b[1;33m:\u001b[0m\u001b[1;33m]\u001b[0m \u001b[1;33m=\u001b[0m \u001b[0mtestPredict\u001b[0m\u001b[1;33m\u001b[0m\u001b[0m\n\u001b[0m\u001b[0;32m      9\u001b[0m \u001b[1;31m# plot baseline and predictions\u001b[0m\u001b[1;33m\u001b[0m\u001b[1;33m\u001b[0m\u001b[0m\n\u001b[0;32m     10\u001b[0m \u001b[0mplt\u001b[0m\u001b[1;33m.\u001b[0m\u001b[0mplot\u001b[0m\u001b[1;33m(\u001b[0m\u001b[0mscaler\u001b[0m\u001b[1;33m.\u001b[0m\u001b[0minverse_transform\u001b[0m\u001b[1;33m(\u001b[0m\u001b[0mdataset\u001b[0m\u001b[1;33m)\u001b[0m\u001b[1;33m)\u001b[0m\u001b[1;33m\u001b[0m\u001b[0m\n",
      "\u001b[1;31mValueError\u001b[0m: could not broadcast input array from shape (112,1) into shape (109,1)"
     ]
    }
   ],
   "source": [
    "# shift train predictions for plotting\n",
    "trainPredictPlot = numpy.empty_like(dataset)\n",
    "trainPredictPlot[:, :] = numpy.nan\n",
    "trainPredictPlot[look_back:len(trainPredict)+look_back, :] = trainPredict\n",
    "# shift test predictions for plotting\n",
    "testPredictPlot = numpy.empty_like(dataset)\n",
    "testPredictPlot[:, :] = numpy.nan\n",
    "testPredictPlot[len(trainPredict-10)+(look_back)+1:len(dataset)-1, :] = testPredict\n",
    "# plot baseline and predictions\n",
    "plt.plot(scaler.inverse_transform(dataset))\n",
    "plt.plot(trainPredictPlot)\n",
    "plt.plot(testPredictPlot)\n",
    "plt.show()"
   ]
  },
  {
   "cell_type": "markdown",
   "metadata": {},
   "source": [
    "lookback = 1, hidden neurons = 4\n",
    "Train Score: 398.36 RMSE\n",
    "Test Score: 314.96 RMSE\n",
    "\n",
    "lookback = 3, hidden neurons = 4\n",
    "Train Score: 387.69 RMSE\n",
    "Test Score: 214.87 RMSE\n",
    "\n",
    "lookback = 7, hidden neurons = 4\n",
    "Train Score: 357.99 RMSE\n",
    "Test Score: 146.85 RMSE\n",
    "\n",
    "lookback = 10, hidden neurons = 8\n",
    "Train Score: 366.99 RMSE\n",
    "Test Score: 149.24 RMSE\n",
    "\n"
   ]
  },
  {
   "cell_type": "code",
   "execution_count": null,
   "metadata": {
    "collapsed": true
   },
   "outputs": [],
   "source": []
  }
 ],
 "metadata": {
  "kernelspec": {
   "display_name": "Python 2",
   "language": "python",
   "name": "python2"
  },
  "language_info": {
   "codemirror_mode": {
    "name": "ipython",
    "version": 2
   },
   "file_extension": ".py",
   "mimetype": "text/x-python",
   "name": "python",
   "nbconvert_exporter": "python",
   "pygments_lexer": "ipython2",
   "version": "2.7.12"
  }
 },
 "nbformat": 4,
 "nbformat_minor": 0
}
