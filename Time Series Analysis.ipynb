{
 "cells": [
  {
   "cell_type": "markdown",
   "metadata": {},
   "source": [
    "Long Short-Term Memory network is a type of Recurrent Neural Network"
   ]
  },
  {
   "cell_type": "code",
   "execution_count": 38,
   "metadata": {
    "collapsed": false
   },
   "outputs": [],
   "source": [
    "import numpy\n",
    "import matplotlib.pyplot as plt\n",
    "import pandas\n",
    "import math\n",
    "from keras.models import Sequential\n",
    "from keras.layers import Dense\n",
    "from keras.layers import LSTM\n",
    "from sklearn.preprocessing import MinMaxScaler\n",
    "from sklearn.metrics import mean_squared_error"
   ]
  },
  {
   "cell_type": "code",
   "execution_count": 39,
   "metadata": {
    "collapsed": true
   },
   "outputs": [],
   "source": [
    "# fix random seed for reproducibility\n",
    "numpy.random.seed(7)\n"
   ]
  },
  {
   "cell_type": "code",
   "execution_count": 40,
   "metadata": {
    "collapsed": false
   },
   "outputs": [
    {
     "name": "stdout",
     "output_type": "stream",
     "text": [
      "99\n"
     ]
    }
   ],
   "source": [
    "# load the dataset\n",
    "dataframe = pandas.read_csv('csv/2108.csv', usecols=[0], engine='python')\n",
    "dataset = dataframe.values\n",
    "dataset = dataset.astype('float32')\n",
    "print len(dataset)"
   ]
  },
  {
   "cell_type": "code",
   "execution_count": 41,
   "metadata": {
    "collapsed": false
   },
   "outputs": [
    {
     "data": {
      "text/html": [
       "<div>\n",
       "<table border=\"1\" class=\"dataframe\">\n",
       "  <thead>\n",
       "    <tr style=\"text-align: right;\">\n",
       "      <th></th>\n",
       "      <th>4</th>\n",
       "    </tr>\n",
       "  </thead>\n",
       "  <tbody>\n",
       "    <tr>\n",
       "      <th>count</th>\n",
       "      <td>99.000000</td>\n",
       "    </tr>\n",
       "    <tr>\n",
       "      <th>mean</th>\n",
       "      <td>21.070707</td>\n",
       "    </tr>\n",
       "    <tr>\n",
       "      <th>std</th>\n",
       "      <td>18.158740</td>\n",
       "    </tr>\n",
       "    <tr>\n",
       "      <th>min</th>\n",
       "      <td>2.000000</td>\n",
       "    </tr>\n",
       "    <tr>\n",
       "      <th>25%</th>\n",
       "      <td>8.000000</td>\n",
       "    </tr>\n",
       "    <tr>\n",
       "      <th>50%</th>\n",
       "      <td>14.000000</td>\n",
       "    </tr>\n",
       "    <tr>\n",
       "      <th>75%</th>\n",
       "      <td>29.500000</td>\n",
       "    </tr>\n",
       "    <tr>\n",
       "      <th>max</th>\n",
       "      <td>107.000000</td>\n",
       "    </tr>\n",
       "  </tbody>\n",
       "</table>\n",
       "</div>"
      ],
      "text/plain": [
       "                4\n",
       "count   99.000000\n",
       "mean    21.070707\n",
       "std     18.158740\n",
       "min      2.000000\n",
       "25%      8.000000\n",
       "50%     14.000000\n",
       "75%     29.500000\n",
       "max    107.000000"
      ]
     },
     "execution_count": 41,
     "metadata": {},
     "output_type": "execute_result"
    }
   ],
   "source": [
    "dataframe.describe()"
   ]
  },
  {
   "cell_type": "code",
   "execution_count": 165,
   "metadata": {
    "collapsed": false
   },
   "outputs": [
    {
     "name": "stdout",
     "output_type": "stream",
     "text": [
      "99\n"
     ]
    }
   ],
   "source": [
    "# normalize the dataset\n",
    "scaler = MinMaxScaler(feature_range=(0, 1))\n",
    "dataset = scaler.fit_transform(dataset)\n",
    "print len(dataset)"
   ]
  },
  {
   "cell_type": "code",
   "execution_count": 166,
   "metadata": {
    "collapsed": false
   },
   "outputs": [
    {
     "name": "stdout",
     "output_type": "stream",
     "text": [
      "(50, 59)\n"
     ]
    }
   ],
   "source": [
    "# split into train and test sets - train set ends on May 12\n",
    "train_size = 50\n",
    "test_size = len(dataset) - train_size\n",
    "train, test = dataset[0:train_size,:], dataset[train_size-10:len(dataset),:]\n",
    "print(len(train), len(test))"
   ]
  },
  {
   "cell_type": "code",
   "execution_count": 167,
   "metadata": {
    "collapsed": true
   },
   "outputs": [],
   "source": [
    "def create_dataset(dataset, look_back=1):\n",
    "    dataX, dataY = [], []\n",
    "    for i in range(len(dataset)-look_back-1):\n",
    "        a = dataset[i:(i+look_back), 0]\n",
    "        dataX.append(a)\n",
    "        dataY.append(dataset[i + look_back, 0])\n",
    "    return numpy.array(dataX), numpy.array(dataY)"
   ]
  },
  {
   "cell_type": "code",
   "execution_count": 168,
   "metadata": {
    "collapsed": true
   },
   "outputs": [],
   "source": [
    "# reshape into X=t and Y=t+1\n",
    "look_back = 1\n",
    "trainX, trainY = create_dataset(train, look_back)\n",
    "testX, testY = create_dataset(test, look_back)"
   ]
  },
  {
   "cell_type": "code",
   "execution_count": 169,
   "metadata": {
    "collapsed": false
   },
   "outputs": [],
   "source": [
    "# reshape input to be [samples, time steps, features]\n",
    "trainX = numpy.reshape(trainX, (trainX.shape[0], 1, trainX.shape[1]))\n",
    "testX = numpy.reshape(testX, (testX.shape[0], 1, testX.shape[1]))"
   ]
  },
  {
   "cell_type": "code",
   "execution_count": 170,
   "metadata": {
    "collapsed": false
   },
   "outputs": [
    {
     "name": "stdout",
     "output_type": "stream",
     "text": [
      "Epoch 1/100\n",
      "48/48 [==============================] - 0s - loss: 0.0243     \n",
      "Epoch 2/100\n",
      "48/48 [==============================] - 0s - loss: 0.0236     \n",
      "Epoch 3/100\n",
      "48/48 [==============================] - 0s - loss: 0.0229     \n",
      "Epoch 4/100\n",
      "48/48 [==============================] - 0s - loss: 0.0221     \n",
      "Epoch 5/100\n",
      "48/48 [==============================] - 0s - loss: 0.0216     \n",
      "Epoch 6/100\n",
      "48/48 [==============================] - 0s - loss: 0.0209     \n",
      "Epoch 7/100\n",
      "48/48 [==============================] - 0s - loss: 0.0203     \n",
      "Epoch 8/100\n",
      "48/48 [==============================] - 0s - loss: 0.0197     \n",
      "Epoch 9/100\n",
      "48/48 [==============================] - 0s - loss: 0.0192     \n",
      "Epoch 10/100\n",
      "48/48 [==============================] - 0s - loss: 0.0187     \n",
      "Epoch 11/100\n",
      "48/48 [==============================] - 0s - loss: 0.0182     \n",
      "Epoch 12/100\n",
      "48/48 [==============================] - 0s - loss: 0.0177     \n",
      "Epoch 13/100\n",
      "48/48 [==============================] - 0s - loss: 0.0173     \n",
      "Epoch 14/100\n",
      "48/48 [==============================] - 0s - loss: 0.0169     \n",
      "Epoch 15/100\n",
      "48/48 [==============================] - 0s - loss: 0.0164     \n",
      "Epoch 16/100\n",
      "48/48 [==============================] - 0s - loss: 0.0161     \n",
      "Epoch 17/100\n",
      "48/48 [==============================] - 0s - loss: 0.0158     \n",
      "Epoch 18/100\n",
      "48/48 [==============================] - 0s - loss: 0.0155     \n",
      "Epoch 19/100\n",
      "48/48 [==============================] - 0s - loss: 0.0152     \n",
      "Epoch 20/100\n",
      "48/48 [==============================] - 0s - loss: 0.0149     \n",
      "Epoch 21/100\n",
      "48/48 [==============================] - 0s - loss: 0.0146     \n",
      "Epoch 22/100\n",
      "48/48 [==============================] - 0s - loss: 0.0144     \n",
      "Epoch 23/100\n",
      "48/48 [==============================] - 0s - loss: 0.0142     \n",
      "Epoch 24/100\n",
      "48/48 [==============================] - 0s - loss: 0.0139     \n",
      "Epoch 25/100\n",
      "48/48 [==============================] - 0s - loss: 0.0138     \n",
      "Epoch 26/100\n",
      "48/48 [==============================] - 0s - loss: 0.0136     \n",
      "Epoch 27/100\n",
      "48/48 [==============================] - 0s - loss: 0.0134     \n",
      "Epoch 28/100\n",
      "48/48 [==============================] - 0s - loss: 0.0133     \n",
      "Epoch 29/100\n",
      "48/48 [==============================] - 0s - loss: 0.0131     \n",
      "Epoch 30/100\n",
      "48/48 [==============================] - 0s - loss: 0.0130     \n",
      "Epoch 31/100\n",
      "48/48 [==============================] - 0s - loss: 0.0129     \n",
      "Epoch 32/100\n",
      "48/48 [==============================] - 0s - loss: 0.0128     \n",
      "Epoch 33/100\n",
      "48/48 [==============================] - 0s - loss: 0.0127     \n",
      "Epoch 34/100\n",
      "48/48 [==============================] - 0s - loss: 0.0126     \n",
      "Epoch 35/100\n",
      "48/48 [==============================] - 0s - loss: 0.0126     \n",
      "Epoch 36/100\n",
      "48/48 [==============================] - 0s - loss: 0.0125     \n",
      "Epoch 37/100\n",
      "48/48 [==============================] - 0s - loss: 0.0124     \n",
      "Epoch 38/100\n",
      "48/48 [==============================] - 0s - loss: 0.0124     \n",
      "Epoch 39/100\n",
      "48/48 [==============================] - 0s - loss: 0.0123     \n",
      "Epoch 40/100\n",
      "48/48 [==============================] - 0s - loss: 0.0123     \n",
      "Epoch 41/100\n",
      "48/48 [==============================] - 0s - loss: 0.0123     \n",
      "Epoch 42/100\n",
      "48/48 [==============================] - 0s - loss: 0.0122     \n",
      "Epoch 43/100\n",
      "48/48 [==============================] - 0s - loss: 0.0122     \n",
      "Epoch 44/100\n",
      "48/48 [==============================] - 0s - loss: 0.0122     \n",
      "Epoch 45/100\n",
      "48/48 [==============================] - 0s - loss: 0.0122     \n",
      "Epoch 46/100\n",
      "48/48 [==============================] - 0s - loss: 0.0121     \n",
      "Epoch 47/100\n",
      "48/48 [==============================] - 0s - loss: 0.0121     \n",
      "Epoch 48/100\n",
      "48/48 [==============================] - 0s - loss: 0.0121     \n",
      "Epoch 49/100\n",
      "48/48 [==============================] - 0s - loss: 0.0121     \n",
      "Epoch 50/100\n",
      "48/48 [==============================] - 0s - loss: 0.0121     \n",
      "Epoch 51/100\n",
      "48/48 [==============================] - 0s - loss: 0.0120     \n",
      "Epoch 52/100\n",
      "48/48 [==============================] - 0s - loss: 0.0120     \n",
      "Epoch 53/100\n",
      "48/48 [==============================] - 0s - loss: 0.0120     \n",
      "Epoch 54/100\n",
      "48/48 [==============================] - 0s - loss: 0.0120     \n",
      "Epoch 55/100\n",
      "48/48 [==============================] - 0s - loss: 0.0120     \n",
      "Epoch 56/100\n",
      "48/48 [==============================] - 0s - loss: 0.0120     \n",
      "Epoch 57/100\n",
      "48/48 [==============================] - 0s - loss: 0.0120     \n",
      "Epoch 58/100\n",
      "48/48 [==============================] - 0s - loss: 0.0120     \n",
      "Epoch 59/100\n",
      "48/48 [==============================] - 0s - loss: 0.0120     \n",
      "Epoch 60/100\n",
      "48/48 [==============================] - 0s - loss: 0.0120     \n",
      "Epoch 61/100\n",
      "48/48 [==============================] - 0s - loss: 0.0120     \n",
      "Epoch 62/100\n",
      "48/48 [==============================] - 0s - loss: 0.0120     \n",
      "Epoch 63/100\n",
      "48/48 [==============================] - 0s - loss: 0.0120     \n",
      "Epoch 64/100\n",
      "48/48 [==============================] - 0s - loss: 0.0120     \n",
      "Epoch 65/100\n",
      "48/48 [==============================] - 0s - loss: 0.0119     \n",
      "Epoch 66/100\n",
      "48/48 [==============================] - 0s - loss: 0.0119     \n",
      "Epoch 67/100\n",
      "48/48 [==============================] - 0s - loss: 0.0119     \n",
      "Epoch 68/100\n",
      "48/48 [==============================] - 0s - loss: 0.0119     \n",
      "Epoch 69/100\n",
      "48/48 [==============================] - 0s - loss: 0.0119     \n",
      "Epoch 70/100\n",
      "48/48 [==============================] - 0s - loss: 0.0119     \n",
      "Epoch 71/100\n",
      "48/48 [==============================] - 0s - loss: 0.0119     \n",
      "Epoch 72/100\n",
      "48/48 [==============================] - 0s - loss: 0.0119     \n",
      "Epoch 73/100\n",
      "48/48 [==============================] - 0s - loss: 0.0119     \n",
      "Epoch 74/100\n",
      "48/48 [==============================] - 0s - loss: 0.0119     \n",
      "Epoch 75/100\n",
      "48/48 [==============================] - 0s - loss: 0.0119     \n",
      "Epoch 76/100\n",
      "48/48 [==============================] - 0s - loss: 0.0119     \n",
      "Epoch 77/100\n",
      "48/48 [==============================] - 0s - loss: 0.0119     \n",
      "Epoch 78/100\n",
      "48/48 [==============================] - 0s - loss: 0.0119     \n",
      "Epoch 79/100\n",
      "48/48 [==============================] - 0s - loss: 0.0119     \n",
      "Epoch 80/100\n",
      "48/48 [==============================] - 0s - loss: 0.0119     \n",
      "Epoch 81/100\n",
      "48/48 [==============================] - 0s - loss: 0.0119     \n",
      "Epoch 82/100\n",
      "48/48 [==============================] - 0s - loss: 0.0119     \n",
      "Epoch 83/100\n",
      "48/48 [==============================] - 0s - loss: 0.0119     \n",
      "Epoch 84/100\n",
      "48/48 [==============================] - 0s - loss: 0.0119     \n",
      "Epoch 85/100\n",
      "48/48 [==============================] - 0s - loss: 0.0119     \n",
      "Epoch 86/100\n",
      "48/48 [==============================] - 0s - loss: 0.0119     \n",
      "Epoch 87/100\n",
      "48/48 [==============================] - 0s - loss: 0.0119     \n",
      "Epoch 88/100\n",
      "48/48 [==============================] - 0s - loss: 0.0119     \n",
      "Epoch 89/100\n",
      "48/48 [==============================] - 0s - loss: 0.0119     \n",
      "Epoch 90/100\n",
      "48/48 [==============================] - 0s - loss: 0.0118     \n",
      "Epoch 91/100\n",
      "48/48 [==============================] - 0s - loss: 0.0118     \n",
      "Epoch 92/100\n",
      "48/48 [==============================] - 0s - loss: 0.0118     \n",
      "Epoch 93/100\n",
      "48/48 [==============================] - 0s - loss: 0.0118     \n",
      "Epoch 94/100\n",
      "48/48 [==============================] - 0s - loss: 0.0118     \n",
      "Epoch 95/100\n",
      "48/48 [==============================] - 0s - loss: 0.0118     \n",
      "Epoch 96/100\n",
      "48/48 [==============================] - 0s - loss: 0.0118     \n",
      "Epoch 97/100\n",
      "48/48 [==============================] - 0s - loss: 0.0118     \n",
      "Epoch 98/100\n",
      "48/48 [==============================] - 0s - loss: 0.0118     \n",
      "Epoch 99/100\n",
      "48/48 [==============================] - 0s - loss: 0.0118     \n",
      "Epoch 100/100\n",
      "48/48 [==============================] - 0s - loss: 0.0118     \n"
     ]
    },
    {
     "data": {
      "text/plain": [
       "<keras.callbacks.History at 0x199ce1f50>"
      ]
     },
     "execution_count": 170,
     "metadata": {},
     "output_type": "execute_result"
    }
   ],
   "source": [
    "# create and fit the LSTM network\n",
    "model = Sequential()\n",
    "model.add(LSTM(4, input_dim=look_back))\n",
    "model.add(Dense(1))\n",
    "model.compile(loss='mean_squared_error', optimizer='adam')\n",
    "model.fit(trainX, trainY, nb_epoch=100)"
   ]
  },
  {
   "cell_type": "code",
   "execution_count": 171,
   "metadata": {
    "collapsed": false,
    "scrolled": true
   },
   "outputs": [
    {
     "name": "stdout",
     "output_type": "stream",
     "text": [
      "Train Score: 0.001035 RMSE\n",
      "Test Score: 0.002294 RMSE\n"
     ]
    }
   ],
   "source": [
    "# make predictions\n",
    "trainPredict = model.predict(trainX)\n",
    "testPredict = model.predict(testX)\n",
    "# invert predictions\n",
    "trainPredict = scaler.inverse_transform(trainPredict)\n",
    "trainY = scaler.inverse_transform([trainY])\n",
    "testPredict = scaler.inverse_transform(testPredict)\n",
    "testY = scaler.inverse_transform([testY])\n",
    "# calculate root mean squared error\n",
    "trainScore = math.sqrt(mean_squared_error(trainY[0], trainPredict[:,0]))\n",
    "print('Train Score: %.6f RMSE' % (trainScore))\n",
    "testScore = math.sqrt(mean_squared_error(testY[0], testPredict[:,0]))\n",
    "print('Test Score: %.6f RMSE' % (testScore))"
   ]
  },
  {
   "cell_type": "code",
   "execution_count": 172,
   "metadata": {
    "collapsed": false
   },
   "outputs": [
    {
     "data": {
      "text/plain": [
       "array([[ 0.09817643],\n",
       "       [ 0.09845764],\n",
       "       [ 0.09848638],\n",
       "       [ 0.09848638],\n",
       "       [ 0.09826144],\n",
       "       [ 0.09833257],\n",
       "       [ 0.0967675 ],\n",
       "       [ 0.09783681],\n",
       "       [ 0.09838998],\n",
       "       [ 0.09838998],\n",
       "       [ 0.09807742],\n",
       "       [ 0.09833257],\n",
       "       [ 0.08438438],\n",
       "       [ 0.09807742],\n",
       "       [ 0.09629372],\n",
       "       [ 0.09653798],\n",
       "       [ 0.0967675 ],\n",
       "       [ 0.09753869],\n",
       "       [ 0.09796424],\n",
       "       [ 0.09807742],\n",
       "       [ 0.09826144],\n",
       "       [ 0.09769499],\n",
       "       [ 0.09134869],\n",
       "       [ 0.09516954],\n",
       "       [ 0.09838998],\n",
       "       [ 0.09826144],\n",
       "       [ 0.09796424],\n",
       "       [ 0.09783681],\n",
       "       [ 0.0967675 ],\n",
       "       [ 0.09343648],\n",
       "       [ 0.07249352],\n",
       "       [ 0.0365277 ],\n",
       "       [ 0.07478135],\n",
       "       [ 0.07982156],\n",
       "       [ 0.09343648],\n",
       "       [ 0.09603471],\n",
       "       [ 0.09807742],\n",
       "       [ 0.09304687],\n",
       "       [ 0.07699513],\n",
       "       [ 0.09516954],\n",
       "       [ 0.0967675 ],\n",
       "       [ 0.09381188],\n",
       "       [ 0.07982156],\n",
       "       [ 0.08438438],\n",
       "       [ 0.0954726 ],\n",
       "       [ 0.08559013],\n",
       "       [ 0.08376458],\n",
       "       [ 0.09179395],\n",
       "       [ 0.09485188],\n",
       "       [ 0.08674931],\n",
       "       [ 0.0954726 ],\n",
       "       [ 0.09179395],\n",
       "       [ 0.09304687],\n",
       "       [ 0.09088986],\n",
       "       [ 0.09381188],\n",
       "       [ 0.09485188],\n",
       "       [ 0.09343648]], dtype=float32)"
      ]
     },
     "execution_count": 172,
     "metadata": {},
     "output_type": "execute_result"
    }
   ],
   "source": [
    "testPredict"
   ]
  },
  {
   "cell_type": "code",
   "execution_count": 173,
   "metadata": {
    "collapsed": false
   },
   "outputs": [
    {
     "ename": "ValueError",
     "evalue": "could not broadcast input array from shape (57,1) into shape (48,1)",
     "output_type": "error",
     "traceback": [
      "\u001b[0;31m---------------------------------------------------------------------------\u001b[0m",
      "\u001b[0;31mValueError\u001b[0m                                Traceback (most recent call last)",
      "\u001b[0;32m<ipython-input-173-00dfc86a62fb>\u001b[0m in \u001b[0;36m<module>\u001b[0;34m()\u001b[0m\n\u001b[1;32m      6\u001b[0m \u001b[0mtestPredictPlot\u001b[0m \u001b[0;34m=\u001b[0m \u001b[0mnumpy\u001b[0m\u001b[0;34m.\u001b[0m\u001b[0mempty_like\u001b[0m\u001b[0;34m(\u001b[0m\u001b[0mdataset\u001b[0m\u001b[0;34m)\u001b[0m\u001b[0;34m\u001b[0m\u001b[0m\n\u001b[1;32m      7\u001b[0m \u001b[0mtestPredictPlot\u001b[0m\u001b[0;34m[\u001b[0m\u001b[0;34m:\u001b[0m\u001b[0;34m,\u001b[0m \u001b[0;34m:\u001b[0m\u001b[0;34m]\u001b[0m \u001b[0;34m=\u001b[0m \u001b[0mnumpy\u001b[0m\u001b[0;34m.\u001b[0m\u001b[0mnan\u001b[0m\u001b[0;34m\u001b[0m\u001b[0m\n\u001b[0;32m----> 8\u001b[0;31m \u001b[0mtestPredictPlot\u001b[0m\u001b[0;34m[\u001b[0m\u001b[0mlen\u001b[0m\u001b[0;34m(\u001b[0m\u001b[0mtrainPredict\u001b[0m\u001b[0;34m-\u001b[0m\u001b[0;36m10\u001b[0m\u001b[0;34m)\u001b[0m\u001b[0;34m+\u001b[0m\u001b[0;34m(\u001b[0m\u001b[0mlook_back\u001b[0m\u001b[0;34m)\u001b[0m\u001b[0;34m+\u001b[0m\u001b[0;36m1\u001b[0m\u001b[0;34m:\u001b[0m\u001b[0mlen\u001b[0m\u001b[0;34m(\u001b[0m\u001b[0mdataset\u001b[0m\u001b[0;34m)\u001b[0m\u001b[0;34m-\u001b[0m\u001b[0;36m1\u001b[0m\u001b[0;34m,\u001b[0m \u001b[0;34m:\u001b[0m\u001b[0;34m]\u001b[0m \u001b[0;34m=\u001b[0m \u001b[0mtestPredict\u001b[0m\u001b[0;34m\u001b[0m\u001b[0m\n\u001b[0m\u001b[1;32m      9\u001b[0m \u001b[0;31m# plot baseline and predictions\u001b[0m\u001b[0;34m\u001b[0m\u001b[0;34m\u001b[0m\u001b[0m\n\u001b[1;32m     10\u001b[0m \u001b[0mplt\u001b[0m\u001b[0;34m.\u001b[0m\u001b[0mplot\u001b[0m\u001b[0;34m(\u001b[0m\u001b[0mscaler\u001b[0m\u001b[0;34m.\u001b[0m\u001b[0minverse_transform\u001b[0m\u001b[0;34m(\u001b[0m\u001b[0mdataset\u001b[0m\u001b[0;34m)\u001b[0m\u001b[0;34m)\u001b[0m\u001b[0;34m\u001b[0m\u001b[0m\n",
      "\u001b[0;31mValueError\u001b[0m: could not broadcast input array from shape (57,1) into shape (48,1)"
     ]
    }
   ],
   "source": [
    "# shift train predictions for plotting\n",
    "trainPredictPlot = numpy.empty_like(dataset)\n",
    "trainPredictPlot[:, :] = numpy.nan\n",
    "trainPredictPlot[look_back:len(trainPredict)+look_back, :] = trainPredict\n",
    "# shift test predictions for plotting\n",
    "testPredictPlot = numpy.empty_like(dataset)\n",
    "testPredictPlot[:, :] = numpy.nan\n",
    "testPredictPlot[len(trainPredict-10)+(look_back)+1:len(dataset)-1, :] = testPredict\n",
    "# plot baseline and predictions\n",
    "plt.plot(scaler.inverse_transform(dataset))\n",
    "plt.plot(trainPredictPlot)\n",
    "plt.plot(testPredictPlot)\n",
    "plt.show()"
   ]
  },
  {
   "cell_type": "markdown",
   "metadata": {},
   "source": [
    "lookback = 1, hidden neurons = 4\n",
    "Train Score: 398.36 RMSE\n",
    "Test Score: 314.96 RMSE\n",
    "\n",
    "lookback = 3, hidden neurons = 4\n",
    "Train Score: 387.69 RMSE\n",
    "Test Score: 214.87 RMSE\n",
    "\n",
    "lookback = 7, hidden neurons = 4\n",
    "Train Score: 357.99 RMSE\n",
    "Test Score: 146.85 RMSE\n",
    "\n",
    "lookback = 10, hidden neurons = 8\n",
    "Train Score: 366.99 RMSE\n",
    "Test Score: 149.24 RMSE\n",
    "\n"
   ]
  },
  {
   "cell_type": "code",
   "execution_count": null,
   "metadata": {
    "collapsed": true
   },
   "outputs": [],
   "source": []
  }
 ],
 "metadata": {
  "kernelspec": {
   "display_name": "Python 2",
   "language": "python",
   "name": "python2"
  },
  "language_info": {
   "codemirror_mode": {
    "name": "ipython",
    "version": 2
   },
   "file_extension": ".py",
   "mimetype": "text/x-python",
   "name": "python",
   "nbconvert_exporter": "python",
   "pygments_lexer": "ipython2",
   "version": "2.7.12"
  }
 },
 "nbformat": 4,
 "nbformat_minor": 0
}
